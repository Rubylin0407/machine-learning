{
 "cells": [
  {
   "cell_type": "markdown",
   "id": "b1446d96",
   "metadata": {},
   "source": [
    "# Car Fuel Efficiency Regression"
   ]
  },
  {
   "cell_type": "markdown",
   "id": "bef024fd-2237-4c24-bdbd-94159035476c",
   "metadata": {},
   "source": [
    "### The goal of this homework is to create a regression model for predicting the car fuel efficiency (column 'fuel_efficiency_mpg')."
   ]
  },
  {
   "cell_type": "markdown",
   "id": "dbd3fbeb",
   "metadata": {},
   "source": [
    "## Setup and Data Loading"
   ]
  },
  {
   "cell_type": "code",
   "execution_count": 2,
   "id": "93b450bf",
   "metadata": {},
   "outputs": [
    {
     "data": {
      "text/html": [
       "<div>\n",
       "<style scoped>\n",
       "    .dataframe tbody tr th:only-of-type {\n",
       "        vertical-align: middle;\n",
       "    }\n",
       "\n",
       "    .dataframe tbody tr th {\n",
       "        vertical-align: top;\n",
       "    }\n",
       "\n",
       "    .dataframe thead th {\n",
       "        text-align: right;\n",
       "    }\n",
       "</style>\n",
       "<table border=\"1\" class=\"dataframe\">\n",
       "  <thead>\n",
       "    <tr style=\"text-align: right;\">\n",
       "      <th></th>\n",
       "      <th>engine_displacement</th>\n",
       "      <th>horsepower</th>\n",
       "      <th>vehicle_weight</th>\n",
       "      <th>model_year</th>\n",
       "      <th>fuel_efficiency_mpg</th>\n",
       "    </tr>\n",
       "  </thead>\n",
       "  <tbody>\n",
       "    <tr>\n",
       "      <th>0</th>\n",
       "      <td>170</td>\n",
       "      <td>159.0</td>\n",
       "      <td>3413.433759</td>\n",
       "      <td>2003</td>\n",
       "      <td>13.231729</td>\n",
       "    </tr>\n",
       "    <tr>\n",
       "      <th>1</th>\n",
       "      <td>130</td>\n",
       "      <td>97.0</td>\n",
       "      <td>3149.664934</td>\n",
       "      <td>2007</td>\n",
       "      <td>13.688217</td>\n",
       "    </tr>\n",
       "    <tr>\n",
       "      <th>2</th>\n",
       "      <td>170</td>\n",
       "      <td>78.0</td>\n",
       "      <td>3079.038997</td>\n",
       "      <td>2018</td>\n",
       "      <td>14.246341</td>\n",
       "    </tr>\n",
       "    <tr>\n",
       "      <th>3</th>\n",
       "      <td>220</td>\n",
       "      <td>NaN</td>\n",
       "      <td>2542.392402</td>\n",
       "      <td>2009</td>\n",
       "      <td>16.912736</td>\n",
       "    </tr>\n",
       "    <tr>\n",
       "      <th>4</th>\n",
       "      <td>210</td>\n",
       "      <td>140.0</td>\n",
       "      <td>3460.870990</td>\n",
       "      <td>2009</td>\n",
       "      <td>12.488369</td>\n",
       "    </tr>\n",
       "  </tbody>\n",
       "</table>\n",
       "</div>"
      ],
      "text/plain": [
       "   engine_displacement  horsepower  vehicle_weight  model_year  \\\n",
       "0                  170       159.0     3413.433759        2003   \n",
       "1                  130        97.0     3149.664934        2007   \n",
       "2                  170        78.0     3079.038997        2018   \n",
       "3                  220         NaN     2542.392402        2009   \n",
       "4                  210       140.0     3460.870990        2009   \n",
       "\n",
       "   fuel_efficiency_mpg  \n",
       "0            13.231729  \n",
       "1            13.688217  \n",
       "2            14.246341  \n",
       "3            16.912736  \n",
       "4            12.488369  "
      ]
     },
     "execution_count": 2,
     "metadata": {},
     "output_type": "execute_result"
    }
   ],
   "source": [
    "import pandas as pd\n",
    "import numpy as np\n",
    "import matplotlib.pyplot as plt\n",
    "\n",
    "from sklearn.model_selection import train_test_split\n",
    "from sklearn.linear_model import LinearRegression, Ridge\n",
    "from sklearn.metrics import mean_squared_error\n",
    "\n",
    "# Load dataset\n",
    "file_path = 'https://raw.githubusercontent.com/alexeygrigorev/datasets/master/car_fuel_efficiency.csv'\n",
    "df = pd.read_csv(file_path)\n",
    "\n",
    "# Keep only the required columns\n",
    "cols = ['engine_displacement','horsepower','vehicle_weight','model_year','fuel_efficiency_mpg']\n",
    "df = df[cols].copy()\n",
    "\n",
    "df.head()"
   ]
  },
  {
   "cell_type": "markdown",
   "id": "dff20680",
   "metadata": {},
   "source": [
    "## EDA"
   ]
  },
  {
   "cell_type": "code",
   "execution_count": 3,
   "id": "3dd3e3cc",
   "metadata": {},
   "outputs": [
    {
     "data": {
      "text/html": [
       "<div>\n",
       "<style scoped>\n",
       "    .dataframe tbody tr th:only-of-type {\n",
       "        vertical-align: middle;\n",
       "    }\n",
       "\n",
       "    .dataframe tbody tr th {\n",
       "        vertical-align: top;\n",
       "    }\n",
       "\n",
       "    .dataframe thead th {\n",
       "        text-align: right;\n",
       "    }\n",
       "</style>\n",
       "<table border=\"1\" class=\"dataframe\">\n",
       "  <thead>\n",
       "    <tr style=\"text-align: right;\">\n",
       "      <th></th>\n",
       "      <th>engine_displacement</th>\n",
       "      <th>horsepower</th>\n",
       "      <th>vehicle_weight</th>\n",
       "      <th>model_year</th>\n",
       "      <th>fuel_efficiency_mpg</th>\n",
       "    </tr>\n",
       "  </thead>\n",
       "  <tbody>\n",
       "    <tr>\n",
       "      <th>count</th>\n",
       "      <td>9704.000000</td>\n",
       "      <td>8996.000000</td>\n",
       "      <td>9704.000000</td>\n",
       "      <td>9704.000000</td>\n",
       "      <td>9704.000000</td>\n",
       "    </tr>\n",
       "    <tr>\n",
       "      <th>mean</th>\n",
       "      <td>199.708368</td>\n",
       "      <td>149.657292</td>\n",
       "      <td>3001.280993</td>\n",
       "      <td>2011.484027</td>\n",
       "      <td>14.985243</td>\n",
       "    </tr>\n",
       "    <tr>\n",
       "      <th>std</th>\n",
       "      <td>49.455319</td>\n",
       "      <td>29.879555</td>\n",
       "      <td>497.894860</td>\n",
       "      <td>6.659808</td>\n",
       "      <td>2.556468</td>\n",
       "    </tr>\n",
       "    <tr>\n",
       "      <th>min</th>\n",
       "      <td>10.000000</td>\n",
       "      <td>37.000000</td>\n",
       "      <td>952.681761</td>\n",
       "      <td>2000.000000</td>\n",
       "      <td>6.200971</td>\n",
       "    </tr>\n",
       "    <tr>\n",
       "      <th>25%</th>\n",
       "      <td>170.000000</td>\n",
       "      <td>130.000000</td>\n",
       "      <td>2666.248985</td>\n",
       "      <td>2006.000000</td>\n",
       "      <td>13.267459</td>\n",
       "    </tr>\n",
       "    <tr>\n",
       "      <th>50%</th>\n",
       "      <td>200.000000</td>\n",
       "      <td>149.000000</td>\n",
       "      <td>2993.226296</td>\n",
       "      <td>2012.000000</td>\n",
       "      <td>15.006037</td>\n",
       "    </tr>\n",
       "    <tr>\n",
       "      <th>75%</th>\n",
       "      <td>230.000000</td>\n",
       "      <td>170.000000</td>\n",
       "      <td>3334.957039</td>\n",
       "      <td>2017.000000</td>\n",
       "      <td>16.707965</td>\n",
       "    </tr>\n",
       "    <tr>\n",
       "      <th>max</th>\n",
       "      <td>380.000000</td>\n",
       "      <td>271.000000</td>\n",
       "      <td>4739.077089</td>\n",
       "      <td>2023.000000</td>\n",
       "      <td>25.967222</td>\n",
       "    </tr>\n",
       "  </tbody>\n",
       "</table>\n",
       "</div>"
      ],
      "text/plain": [
       "       engine_displacement   horsepower  vehicle_weight   model_year  \\\n",
       "count          9704.000000  8996.000000     9704.000000  9704.000000   \n",
       "mean            199.708368   149.657292     3001.280993  2011.484027   \n",
       "std              49.455319    29.879555      497.894860     6.659808   \n",
       "min              10.000000    37.000000      952.681761  2000.000000   \n",
       "25%             170.000000   130.000000     2666.248985  2006.000000   \n",
       "50%             200.000000   149.000000     2993.226296  2012.000000   \n",
       "75%             230.000000   170.000000     3334.957039  2017.000000   \n",
       "max             380.000000   271.000000     4739.077089  2023.000000   \n",
       "\n",
       "       fuel_efficiency_mpg  \n",
       "count          9704.000000  \n",
       "mean             14.985243  \n",
       "std               2.556468  \n",
       "min               6.200971  \n",
       "25%              13.267459  \n",
       "50%              15.006037  \n",
       "75%              16.707965  \n",
       "max              25.967222  "
      ]
     },
     "metadata": {},
     "output_type": "display_data"
    },
    {
     "name": "stdout",
     "output_type": "stream",
     "text": [
      "\n",
      "Missing per column:\n",
      "engine_displacement      0\n",
      "horsepower             708\n",
      "vehicle_weight           0\n",
      "model_year               0\n",
      "fuel_efficiency_mpg      0\n",
      "dtype: int64\n",
      "Skew of fuel_efficiency_mpg: -0.012\n"
     ]
    },
    {
     "data": {
      "image/png": "[encoded data removed]",
      "text/plain": [
       "<Figure size 640x480 with 1 Axes>"
      ]
     },
     "metadata": {},
     "output_type": "display_data"
    },
    {
     "name": "stdout",
     "output_type": "stream",
     "text": [
      "Has long tail? False\n"
     ]
    }
   ],
   "source": [
    "# Basic info\n",
    "display(df.describe(include='all'))\n",
    "print(\"\\nMissing per column:\")\n",
    "print(df.isna().sum())\n",
    "\n",
    "# Look at the distribution of target\n",
    "target = 'fuel_efficiency_mpg'\n",
    "skew = df[target].skew()\n",
    "print(f\"Skew of {target}: {skew:.3f}\")\n",
    "\n",
    "plt.figure()\n",
    "df[target].hist(bins=30)\n",
    "plt.title('Distribution of fuel_efficiency_mpg')\n",
    "plt.xlabel('fuel_efficiency_mpg')\n",
    "plt.ylabel('Count')\n",
    "plt.show()\n",
    "\n",
    "# Heuristic for long tail: absolute skew > 1 often indicates a long tail\n",
    "has_long_tail = abs(skew) > 1\n",
    "print(\"Has long tail?\", has_long_tail)\n"
   ]
  },
  {
   "cell_type": "code",
   "execution_count": 22,
   "id": "27e6d8ee-7ce1-46d9-8675-e264840d3911",
   "metadata": {},
   "outputs": [
    {
     "data": {
      "text/plain": [
       "engine_displacement      0\n",
       "horsepower             708\n",
       "vehicle_weight           0\n",
       "model_year               0\n",
       "fuel_efficiency_mpg      0\n",
       "dtype: int64"
      ]
     },
     "execution_count": 22,
     "metadata": {},
     "output_type": "execute_result"
    }
   ],
   "source": [
    "na_counts = df.isna().sum()\n",
    "na_counts"
   ]
  },
  {
   "cell_type": "markdown",
   "id": "e9846a7c",
   "metadata": {},
   "source": [
    "## Questions 1 & 2\n",
    "* Look at the `fuel_efficiency_mpg` variable. Does it have a long tail? \n",
    "* What's the median (50% percentile) for variable `'horsepower'`?"
   ]
  },
  {
   "cell_type": "code",
   "execution_count": 29,
   "id": "cb62fc0b",
   "metadata": {},
   "outputs": [
    {
     "name": "stdout",
     "output_type": "stream",
     "text": [
      "Q1 - Column with missing values: horsepower\n",
      "Q2 - Median horsepower: 149.0\n"
     ]
    }
   ],
   "source": [
    "# Q1: which single column has missing values?\n",
    "na_counts = df.isna().sum().sort_values(ascending=False)\n",
    "q1_column = na_counts.index[0] if na_counts.iloc[0] > 0 else None\n",
    "print(\"Q1 - Column with missing values:\", q1_column)\n",
    "\n",
    "# Q2: median horsepower (50th percentile)\n",
    "hp_median = df['horsepower'].median()\n",
    "print(\"Q2 - Median horsepower:\", hp_median)\n"
   ]
  },
  {
   "cell_type": "markdown",
   "id": "22cb593f",
   "metadata": {},
   "source": [
    "## Utilities: Split and RMSE"
   ]
  },
  {
   "cell_type": "code",
   "execution_count": 7,
   "id": "d47abcf1",
   "metadata": {},
   "outputs": [],
   "source": [
    "def prepare_splits(dataframe, seed=42):\n",
    "    # Shuffle first (reproducible)\n",
    "    df_shuffled = dataframe.sample(frac=1.0, random_state=seed).reset_index(drop=True)\n",
    "    # 60/20/20 split: first split train vs tmp, then tmp into val/test\n",
    "    df_train, df_tmp = train_test_split(df_shuffled, test_size=0.4, random_state=seed)\n",
    "    df_val, df_test = train_test_split(df_tmp, test_size=0.5, random_state=seed)\n",
    "    return df_train.reset_index(drop=True), df_val.reset_index(drop=True), df_test.reset_index(drop=True)\n",
    "\n",
    "def rmse(y_true, y_pred):\n",
    "    import numpy as np\n",
    "    y_true = np.asarray(y_true, dtype=float)\n",
    "    y_pred = np.asarray(y_pred, dtype=float)\n",
    "    return np.sqrt(np.mean((y_true - y_pred) ** 2))\n",
    "\n",
    "feature_cols = ['engine_displacement','horsepower','vehicle_weight','model_year']\n",
    "target_col = 'fuel_efficiency_mpg'"
   ]
  },
  {
   "cell_type": "markdown",
   "id": "e514e7dd",
   "metadata": {},
   "source": [
    "## Question 3 — Missing value strategies (0 vs mean)\n",
    "* We need to deal with missing values for the column from Q1.\n",
    "* We have two options: fill it with 0 or with the mean of this variable.\n",
    "* Try both options. For each, train a linear regression model without regularization using the code from the lessons.\n",
    "* For computing the mean, use the training only!\n",
    "* Use the validation dataset to evaluate the models and compare the RMSE of each option.\n",
    "* Round the RMSE scores to 2 decimal digits using `round(score, 2)`\n",
    "* Which option gives better RMSE?"
   ]
  },
  {
   "cell_type": "code",
   "execution_count": 8,
   "id": "54669023",
   "metadata": {},
   "outputs": [
    {
     "name": "stdout",
     "output_type": "stream",
     "text": [
      "Q3 - RMSE with 0     : 0.51\n",
      "Q3 - RMSE with mean : 0.46\n",
      "Q3 - Better option  : With mean\n"
     ]
    }
   ],
   "source": [
    "# Use seed 42 and create splits\n",
    "df_train, df_val, df_test = prepare_splits(df, seed=42)\n",
    "\n",
    "# Option A: fill missing with 0\n",
    "X_train_A = df_train[feature_cols].fillna(0).values\n",
    "y_train = df_train[target_col].values\n",
    "X_val_A = df_val[feature_cols].fillna(0).values\n",
    "y_val = df_val[target_col].values\n",
    "\n",
    "lr_A = LinearRegression()\n",
    "lr_A.fit(X_train_A, y_train)\n",
    "preds_A = lr_A.predict(X_val_A)\n",
    "rmse_A = rmse(y_val, preds_A)\n",
    "\n",
    "# Option B: fill missing with train-mean\n",
    "train_means = df_train[feature_cols].mean()\n",
    "X_train_B = df_train[feature_cols].fillna(train_means).values\n",
    "X_val_B = df_val[feature_cols].fillna(train_means).values\n",
    "\n",
    "lr_B = LinearRegression()\n",
    "lr_B.fit(X_train_B, y_train)\n",
    "preds_B = lr_B.predict(X_val_B)\n",
    "rmse_B = rmse(y_val, preds_B)\n",
    "\n",
    "print(\"Q3 - RMSE with 0     :\", round(rmse_A, 2))\n",
    "print(\"Q3 - RMSE with mean :\", round(rmse_B, 2))\n",
    "better_q3 = \"With mean\" if round(rmse_B, 2) < round(rmse_A, 2) else (\"With 0\" if round(rmse_A, 2) < round(rmse_B, 2) else \"Both are equally good\")\n",
    "print(\"Q3 - Better option  :\", better_q3)\n"
   ]
  },
  {
   "cell_type": "markdown",
   "id": "18883e85",
   "metadata": {},
   "source": [
    "## Question 4 — Ridge regression hyperparameter r\n",
    "* Now let's train a regularized linear regression.\n",
    "* For this question, fill the NAs with 0. \n",
    "* Try different values of `r` from this list: `[0, 0.01, 0.1, 1, 5, 10, 100]`.\n",
    "* Use RMSE to evaluate the model on the validation dataset.\n",
    "* Round the RMSE scores to 2 decimal digits.\n",
    "* Which `r` gives the best RMSE?"
   ]
  },
  {
   "cell_type": "code",
   "execution_count": 15,
   "id": "6ad21fed",
   "metadata": {},
   "outputs": [
    {
     "name": "stdout",
     "output_type": "stream",
     "text": [
      "Q4 - RMSE by r: [(0.0, 0.51), (0.01, 0.51), (0.1, 0.51), (1.0, 0.51), (5.0, 0.51), (10.0, 0.51), (100.0, 0.51)]\n",
      "Q4 - Best r: 0.0 with RMSE 0.51\n"
     ]
    }
   ],
   "source": [
    "r_values = [0, 0.01, 0.1, 1, 5, 10, 100]\n",
    "\n",
    "# Use the same split (seed 42)\n",
    "df_train, df_val, df_test = prepare_splits(df, seed=42)\n",
    "\n",
    "X_train = df_train[feature_cols].fillna(0).values\n",
    "y_train = df_train[target_col].values\n",
    "X_val = df_val[feature_cols].fillna(0).values\n",
    "y_val = df_val[target_col].values\n",
    "\n",
    "scores = []\n",
    "for r in r_values:\n",
    "    if r == 0:\n",
    "        model = LinearRegression()\n",
    "    else:\n",
    "        model = Ridge(alpha=r, random_state=42)\n",
    "    model.fit(X_train, y_train)\n",
    "    preds = model.predict(X_val)\n",
    "    score = rmse(y_val, preds)\n",
    "    scores.append((float(r), float(round(score, 2))))\n",
    "    scores_clean = [(float(r), float(v)) for r, v in scores]\n",
    "\n",
    "scores_sorted = sorted(scores, key=lambda x: (x[1], x[0]))  # sort by RMSE then by smallest r\n",
    "best_r, best_rmse = scores_sorted[0]\n",
    "print(\"Q4 - RMSE by r:\", scores)\n",
    "print(f\"Q4 - Best r: {best_r} with RMSE {best_rmse}\")"
   ]
  },
  {
   "cell_type": "markdown",
   "id": "f49d0d53",
   "metadata": {},
   "source": [
    "## Question 5 — Variability across seeds\n",
    "* We used seed 42 for splitting the data. Let's find out how selecting the seed influences our score.\n",
    "* Try different seed values: `[0, 1, 2, 3, 4, 5, 6, 7, 8, 9]`.\n",
    "* For each seed, do the train/validation/test split with 60%/20%/20% distribution.\n",
    "* Fill the missing values with 0 and train a model without regularization.\n",
    "* For each seed, evaluate the model on the validation dataset and collect the RMSE scores. \n",
    "* What's the standard deviation of all the scores? To compute the standard deviation, use `np.std`.\n",
    "* Round the result to 3 decimal digits (`round(std, 3)`)"
   ]
  },
  {
   "cell_type": "code",
   "execution_count": 16,
   "id": "692146da",
   "metadata": {},
   "outputs": [
    {
     "name": "stdout",
     "output_type": "stream",
     "text": [
      "Q5 - Validation RMSEs: [np.float64(0.518), np.float64(0.509), np.float64(0.514), np.float64(0.515), np.float64(0.518), np.float64(0.524), np.float64(0.515), np.float64(0.525), np.float64(0.508), np.float64(0.529)]\n",
      "Q5 - Std of RMSEs   : 0.007\n"
     ]
    }
   ],
   "source": [
    "seed_list = list(range(10))\n",
    "val_rmses = []\n",
    "\n",
    "for s in seed_list:\n",
    "    df_train, df_val, df_test = prepare_splits(df, seed=s)\n",
    "    X_train = df_train[feature_cols].fillna(0).values\n",
    "    y_train = df_train[target_col].values\n",
    "    X_val = df_val[feature_cols].fillna(0).values\n",
    "    y_val = df_val[target_col].values\n",
    "\n",
    "    lr = LinearRegression()\n",
    "    lr.fit(X_train, y_train)\n",
    "    preds = lr.predict(X_val)\n",
    "    val_rmses.append(rmse(y_val, preds))\n",
    "\n",
    "std_val = float(np.std(val_rmses))\n",
    "print(\"Q5 - Validation RMSEs:\", [round(v, 3) for v in val_rmses])\n",
    "print(\"Q5 - Std of RMSEs   :\", round(std_val, 3))"
   ]
  },
  {
   "cell_type": "markdown",
   "id": "98b278d5",
   "metadata": {},
   "source": [
    "## Question 6 — Train on train+val (seed 9), Ridge r=0.001, NA=0, Test RMSE\n",
    "* Split the dataset like previously, use seed 9.\n",
    "* Combine train and validation datasets.\n",
    "* Fill the missing values with 0 and train a model with `r=0.001`. \n",
    "* What's the RMSE on the test dataset?"
   ]
  },
  {
   "cell_type": "code",
   "execution_count": 17,
   "id": "5b10ce39",
   "metadata": {},
   "outputs": [
    {
     "name": "stdout",
     "output_type": "stream",
     "text": [
      "Q6 - Test RMSE: 0.532\n"
     ]
    }
   ],
   "source": [
    "# Split with seed 9\n",
    "df_train, df_val, df_test = prepare_splits(df, seed=9)\n",
    "\n",
    "# Combine train + val\n",
    "df_tr_full = pd.concat([df_train, df_val], ignore_index=True)\n",
    "\n",
    "X_tr = df_tr_full[feature_cols].fillna(0).values\n",
    "y_tr = df_tr_full[target_col].values\n",
    "X_te = df_test[feature_cols].fillna(0).values\n",
    "y_te = df_test[target_col].values\n",
    "\n",
    "ridge = Ridge(alpha=0.001, random_state=42)\n",
    "ridge.fit(X_tr, y_tr)\n",
    "preds_te = ridge.predict(X_te)\n",
    "rmse_test = rmse(y_te, preds_te)\n",
    "print(\"Q6 - Test RMSE:\", round(rmse_test, 3))\n"
   ]
  },
  {
   "cell_type": "markdown",
   "id": "4434b5c0",
   "metadata": {},
   "source": [
    "## Conclusion"
   ]
  },
  {
   "cell_type": "code",
   "execution_count": 19,
   "id": "f12e88c6",
   "metadata": {},
   "outputs": [
    {
     "name": "stdout",
     "output_type": "stream",
     "text": [
      "EDA: Long tail in fuel_efficiency_mpg? -> False\n",
      "Q1 (missing column)      -> horsepower\n",
      "Q2 (median horsepower)   -> 149\n",
      "Q3 (better imputation)   -> With mean | RMSE(0) = 0.51 , RMSE(mean) = 0.46\n",
      "Q4 (best r)              -> 0 | RMSE = 0.51 | All: [(0, np.float64(0.51)), (0.01, np.float64(0.51)), (0.1, np.float64(0.51)), (1, np.float64(0.51)), (5, np.float64(0.51)), (10, np.float64(0.51)), (100, np.float64(0.51))]\n",
      "Q5 (std of RMSEs)        -> 0.007\n",
      "Q6 (test RMSE, r=0.001)  -> 0.532\n"
     ]
    }
   ],
   "source": [
    "import numpy as np\n",
    "from sklearn.linear_model import LinearRegression, Ridge\n",
    "from sklearn.model_selection import train_test_split\n",
    "\n",
    "def prepare_splits(dataframe, seed=42):\n",
    "    df_shuffled = dataframe.sample(frac=1.0, random_state=seed).reset_index(drop=True)\n",
    "    df_train, df_tmp = train_test_split(df_shuffled, test_size=0.4, random_state=seed)\n",
    "    df_val, df_test = train_test_split(df_tmp, test_size=0.5, random_state=seed)\n",
    "    return df_train.reset_index(drop=True), df_val.reset_index(drop=True), df_test.reset_index(drop=True)\n",
    "\n",
    "feature_cols = ['engine_displacement','horsepower','vehicle_weight','model_year']\n",
    "target_col = 'fuel_efficiency_mpg'\n",
    "\n",
    "# Q1 & Q2 (already computed above, just recompute quickly for certainty)\n",
    "na_counts = df.isna().sum().sort_values(ascending=False)\n",
    "q1_column = na_counts.index[0] if na_counts.iloc[0] > 0 else None\n",
    "hp_median = df['horsepower'].median()\n",
    "\n",
    "# Q3\n",
    "df_train, df_val, df_test = prepare_splits(df, seed=42)\n",
    "\n",
    "X_train_A = df_train[feature_cols].fillna(0).values\n",
    "y_train = df_train[target_col].values\n",
    "X_val_A = df_val[feature_cols].fillna(0).values\n",
    "y_val = df_val[target_col].values\n",
    "lr_A = LinearRegression().fit(X_train_A, y_train)\n",
    "rmse_A = rmse(y_val, lr_A.predict(X_val_A))\n",
    "\n",
    "train_means = df_train[feature_cols].mean()\n",
    "X_train_B = df_train[feature_cols].fillna(train_means).values\n",
    "X_val_B = df_val[feature_cols].fillna(train_means).values\n",
    "lr_B = LinearRegression().fit(X_train_B, y_train)\n",
    "rmse_B = rmse(y_val, lr_B.predict(X_val_B))\n",
    "\n",
    "q3_choice = \"With mean\" if round(rmse_B, 2) < round(rmse_A, 2) else (\"With 0\" if round(rmse_A, 2) < round(rmse_B, 2) else \"Both are equally good\")\n",
    "\n",
    "# Q4\n",
    "r_values = [0, 0.01, 0.1, 1, 5, 10, 100]\n",
    "X_train = df_train[feature_cols].fillna(0).values\n",
    "y_train = df_train[target_col].values\n",
    "X_val = df_val[feature_cols].fillna(0).values\n",
    "y_val = df_val[target_col].values\n",
    "scores = []\n",
    "for r in r_values:\n",
    "    model = LinearRegression() if r == 0 else Ridge(alpha=r, random_state=42)\n",
    "    model.fit(X_train, y_train)\n",
    "    score = rmse(y_val, model.predict(X_val))\n",
    "    scores.append((r, round(score, 2)))\n",
    "best_r, best_rmse = sorted(scores, key=lambda x: (x[1], x[0]))[0]\n",
    "\n",
    "# Q5\n",
    "seed_list = list(range(10))\n",
    "val_rmses = []\n",
    "for s in seed_list:\n",
    "    dtr, dval, dte = prepare_splits(df, seed=s)\n",
    "    X_tr = dtr[feature_cols].fillna(0).values\n",
    "    y_tr = dtr[target_col].values\n",
    "    X_v = dval[feature_cols].fillna(0).values\n",
    "    y_v = dval[target_col].values\n",
    "    lr = LinearRegression().fit(X_tr, y_tr)\n",
    "    val_rmses.append(rmse(y_v, lr.predict(X_v)))\n",
    "std_val = round(float(np.std(val_rmses)), 3)\n",
    "\n",
    "# Q6\n",
    "dtr, dval, dte = prepare_splits(df, seed=9)\n",
    "df_tr_full = pd.concat([dtr, dval], ignore_index=True)\n",
    "X_tr = df_tr_full[feature_cols].fillna(0).values\n",
    "y_tr = df_tr_full[target_col].values\n",
    "X_te = dte[feature_cols].fillna(0).values\n",
    "y_te = dte[target_col].values\n",
    "ridge = Ridge(alpha=0.001, random_state=42).fit(X_tr, y_tr)\n",
    "rmse_test = round(rmse(y_te, ridge.predict(X_te)), 3)\n",
    "\n",
    "print(\"EDA: Long tail in fuel_efficiency_mpg? ->\", abs(df[target_col].skew()) > 1)\n",
    "print(\"Q1 (missing column)      ->\", q1_column)\n",
    "print(\"Q2 (median horsepower)   ->\", int(hp_median) if float(hp_median).is_integer() else float(hp_median))\n",
    "print(\"Q3 (better imputation)   ->\", q3_choice, \"| RMSE(0) =\", round(rmse_A,2), \", RMSE(mean) =\", round(rmse_B,2))\n",
    "print(\"Q4 (best r)              ->\", best_r, \"| RMSE =\", best_rmse, \"| All:\", scores)\n",
    "print(\"Q5 (std of RMSEs)        ->\", std_val)\n",
    "print(\"Q6 (test RMSE, r=0.001)  ->\", rmse_test)\n"
   ]
  },
  {
   "cell_type": "code",
   "execution_count": null,
   "id": "720713c7-ac13-4c93-a3ee-d1ec61340e42",
   "metadata": {},
   "outputs": [],
   "source": []
  }
 ],
 "metadata": {
  "kernelspec": {
   "display_name": "Python 3 (ipykernel)",
   "language": "python",
   "name": "python3"
  },
  "language_info": {
   "codemirror_mode": {
    "name": "ipython",
    "version": 3
   },
   "file_extension": ".py",
   "mimetype": "text/x-python",
   "name": "python",
   "nbconvert_exporter": "python",
   "pygments_lexer": "ipython3",
   "version": "3.12.1"
  }
 },
 "nbformat": 4,
 "nbformat_minor": 5
}
